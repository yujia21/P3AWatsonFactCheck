{
 "cells": [
  {
   "cell_type": "code",
   "execution_count": 1,
   "metadata": {
    "collapsed": false
   },
   "outputs": [],
   "source": [
    "#!jupyter nbconvert --to script Keyword_input.ipynb\n",
    "#!jupyter nbconvert --to script Articles_search.ipynb\n",
    "#!jupyter nbconvert --to script Compare.ipynb\n",
    "\n",
    "from Keyword_input import extract_keywords\n",
    "from Articles_search import search_from_keywords_dbpedia\n",
    "from Compare import compare_keywords_dbpedia"
   ]
  },
  {
   "cell_type": "code",
   "execution_count": null,
   "metadata": {
    "collapsed": false
   },
   "outputs": [
    {
     "name": "stdout",
     "output_type": "stream",
     "text": [
      "Enter a fact : Donald Trump became president of the US in 2017\n",
      "Truth percentage : 0.8\n",
      "Donald John Trump (born June 14, 1946) is an American businessman, politician, and television personality. He is a candidate for the Republican nomination for President of the United States in the 2016 election. Trump is the chairman and president of The Trump Organization and the founder of Trump Entertainment Resorts, a gaming and hotel enterprise. His extensive self promotion, outspoken manner, career, personal life and wealth have made him a celebrity. Trump is a native of New York City and a son of Fred Trump, who inspired him to enter real estate development. While still attending college he worked for his father's firm, Elizabeth Trump & Son. Upon graduating from college in 1968 he joined the company, and in 1971 was given control, renaming the company \"The Trump Organization.\" Since then he has built casinos, golf courses, hotels and other properties, many of which bear his name. He has received prominent media exposure and the NBC reality show The Apprentice bolstered his fame. His three marriages were extensively covered in tabloids. He first ran for President of the United States in 2000, winning two Reform Party primaries. On June 16, 2015, Trump announced his decision to run again for President, this time as a Republican. He won the New Hampshire primary with 35% of the vote, the South Carolina primary with 33% and the Nevada caucuses with 46%. On Super Tuesday in March 2016, Trump won Alabama, Arkansas, Georgia, Massachusetts, Tennessee, Vermont, and Virginia, solidifying his status as the Republican frontrunner.\n",
      "True\n",
      "Enter a fact : Emmanuel Macron is running for the president of France in 2017\n",
      "Truth percentage : 0.0\n",
      "Emmanuel Macron (born 21 December 1977 in Amiens) is a French senior official, politician and former investment banker. On 26 August 2014 he was appointed as the Minister of Economy, Industry and Digital Affairs in the Second Valls Government.\n",
      "False\n"
     ]
    }
   ],
   "source": [
    "while True: \n",
    "    inputfact = input(\"Enter a fact : \")\n",
    "    keywords = extract_keywords(inputfact)\n",
    "    keywords = search_from_keywords_dbpedia(keywords)\n",
    "    print(compare_keywords_dbpedia(keywords, verbose=True))\n",
    "    \n",
    "\n",
    "    # Donald Trump became president of the US in 2017\n",
    "    # Lee Hsien Loong is the prime minister of Singapore\n",
    "    # Ban Ki-moon is the president of the United Nations\n",
    "    # Emmanuel Macron is running for the president of France in 2017\n",
    "    # Russia declared war on the United States of America"
   ]
  }
 ],
 "metadata": {
  "anaconda-cloud": {},
  "kernelspec": {
   "display_name": "Python [conda root]",
   "language": "python",
   "name": "conda-root-py"
  },
  "language_info": {
   "codemirror_mode": {
    "name": "ipython",
    "version": 3
   },
   "file_extension": ".py",
   "mimetype": "text/x-python",
   "name": "python",
   "nbconvert_exporter": "python",
   "pygments_lexer": "ipython3",
   "version": "3.5.2"
  }
 },
 "nbformat": 4,
 "nbformat_minor": 0
}
