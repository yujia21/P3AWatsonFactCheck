{
 "cells": [
  {
   "cell_type": "code",
   "execution_count": 4,
   "metadata": {
    "collapsed": false
   },
   "outputs": [
    {
     "name": "stdout",
     "output_type": "stream",
     "text": [
      "[NbConvertApp] Converting notebook Keyword_input.ipynb to script\n",
      "[NbConvertApp] Writing 3000 bytes to Keyword_input.py\n"
     ]
    }
   ],
   "source": [
    "!jupyter nbconvert --to script Keyword_input.ipynb\n",
    "\n",
    "from watson_developer_cloud import AlchemyLanguageV1\n",
    "import json\n",
    "\n",
    "from API_Key import *\n",
    "alchemy_language = AlchemyLanguageV1(api_key = api_key_chosen)"
   ]
  },
  {
   "cell_type": "code",
   "execution_count": 7,
   "metadata": {
    "collapsed": true
   },
   "outputs": [],
   "source": [
    "def extract_keywords(inputfact):\n",
    "    output = []\n",
    "    dates = []\n",
    "        \n",
    "    import re\n",
    "    n_list=[]\n",
    "    #negation\n",
    "    negation=False\n",
    "    for n in [\"no\", \"not\", \"never\", \"none\", \"noone\"] : \n",
    "        if n in re.compile('\\w+').findall(inputfact):\n",
    "            negation=True\n",
    "            n_list.append(n)\n",
    "\n",
    "    \n",
    "    #keywords\n",
    "    response = alchemy_language.combined(text=inputfact,extract='typed-rels, dates',max_items=100)\n",
    "    if response['status'] == 'OK' : \n",
    "        \n",
    "        \n",
    "        for relation in response['typedRelations']:\n",
    "            for argument in relation['arguments']:\n",
    "                if argument['part']=='first' : \n",
    "                    subjs = [argument['text']]\n",
    "                    for entity in argument['entities'] : \n",
    "                        ssubj = entity['text']\n",
    "                        if not (subjs[0] == ssubj):\n",
    "                            subjs.append(ssubj)\n",
    "                            \n",
    "                if argument['part']=='second' :\n",
    "                    objs = [argument['text']]\n",
    "                    for entity in argument['entities'] : \n",
    "                        sobj = entity['text']\n",
    "                        if not (objs[0] == sobj):\n",
    "                            objs.append(sobj)\n",
    "            \n",
    "            output.append([subjs, objs, relation['type']])\n",
    "        if not (len(response['dates'])==0) :\n",
    "            for date in response['dates']:\n",
    "                dates.append((date['date'], date['text']))\n",
    "        \n",
    "    else:\n",
    "        print('Error in keyword extaction call: ', response['statusInfo'])\n",
    "    \n",
    "    # Prepositions ? \n",
    "    \n",
    "    # Semantic query expansion\n",
    "    # dbpedia : Quepy\n",
    "    # Scoping problem - Political issues. Sample queries\n",
    "    final = {}\n",
    "    final['relations'] = output\n",
    "    final['negations'] = n_list\n",
    "    final['dates'] = dates\n",
    "    print(final)\n",
    "    return final"
   ]
  },
  {
   "cell_type": "code",
   "execution_count": 9,
   "metadata": {
    "collapsed": false
   },
   "outputs": [
    {
     "name": "stdout",
     "output_type": "stream",
     "text": [
      "Enter a fact:\n",
      "Lee Hsien Loong is the prime minister of Singapore\n",
      "{'relations': [[['prime minister', 'Lee Hsien Loong'], ['Singapore'], 'residesIn']], 'negations': [], 'dates': []}\n",
      "Enter a fact:\n",
      "Laos became a member of ASEAN in 2016\n",
      "{'relations': [[['member'], ['ASEAN'], 'employedBy']], 'negations': [], 'dates': [('20160101T000000', '2016')]}\n",
      "Enter a fact:\n",
      "The US is at war with Syria\n",
      "{'relations': [[['US'], ['war'], 'agentOf'], [['Syria'], ['war'], 'affectedBy']], 'negations': [], 'dates': []}\n",
      "Enter a fact:\n",
      "The UN president is Ban Ki Moon\n",
      "{'relations': [[['president', 'Ban Ki Moon'], ['UN'], 'employedBy']], 'negations': [], 'dates': []}\n",
      "Enter a fact:\n",
      "Kim Jong Un was assasinated\n",
      "{'relations': [], 'negations': [], 'dates': []}\n",
      "Enter a fact:\n",
      "Kim Jong Un was assasinated by USA agents\n",
      "{'relations': [[['agents'], ['USA'], 'employedBy']], 'negations': [], 'dates': []}\n",
      "Enter a fact:\n",
      "Kim Jong Un is dead\n",
      "{'relations': [], 'negations': [], 'dates': []}\n",
      "Enter a fact:\n",
      "Kim Jong Un died in 2017\n"
     ]
    },
    {
     "ename": "WatsonException",
     "evalue": "Error: unsupported-text-language",
     "output_type": "error",
     "traceback": [
      "\u001b[0;31m---------------------------------------------------------------------------\u001b[0m",
      "\u001b[0;31mWatsonException\u001b[0m                           Traceback (most recent call last)",
      "\u001b[0;32m<ipython-input-9-a114f33bdca0>\u001b[0m in \u001b[0;36m<module>\u001b[0;34m()\u001b[0m\n\u001b[1;32m      4\u001b[0m     \u001b[0mprint\u001b[0m \u001b[0;34m(\u001b[0m\u001b[0;34m\"Enter a fact:\"\u001b[0m\u001b[0;34m)\u001b[0m\u001b[0;34m\u001b[0m\u001b[0m\n\u001b[1;32m      5\u001b[0m     \u001b[0minputfact\u001b[0m \u001b[0;34m=\u001b[0m \u001b[0minput\u001b[0m\u001b[0;34m(\u001b[0m\u001b[0;34m)\u001b[0m\u001b[0;34m\u001b[0m\u001b[0m\n\u001b[0;32m----> 6\u001b[0;31m     \u001b[0mkeywords\u001b[0m \u001b[0;34m=\u001b[0m \u001b[0mextract_keywords\u001b[0m\u001b[0;34m(\u001b[0m\u001b[0minputfact\u001b[0m\u001b[0;34m)\u001b[0m\u001b[0;34m\u001b[0m\u001b[0m\n\u001b[0m\u001b[1;32m      7\u001b[0m \u001b[0;34m\u001b[0m\u001b[0m\n\u001b[1;32m      8\u001b[0m     \u001b[0;31m# Lee Hsien Loong is the prime minister of Singapore\u001b[0m\u001b[0;34m\u001b[0m\u001b[0;34m\u001b[0m\u001b[0m\n",
      "\u001b[0;32m<ipython-input-7-60366926f531>\u001b[0m in \u001b[0;36mextract_keywords\u001b[0;34m(inputfact)\u001b[0m\n\u001b[1;32m     14\u001b[0m \u001b[0;34m\u001b[0m\u001b[0m\n\u001b[1;32m     15\u001b[0m     \u001b[0;31m#keywords\u001b[0m\u001b[0;34m\u001b[0m\u001b[0;34m\u001b[0m\u001b[0m\n\u001b[0;32m---> 16\u001b[0;31m     \u001b[0mresponse\u001b[0m \u001b[0;34m=\u001b[0m \u001b[0malchemy_language\u001b[0m\u001b[0;34m.\u001b[0m\u001b[0mcombined\u001b[0m\u001b[0;34m(\u001b[0m\u001b[0mtext\u001b[0m\u001b[0;34m=\u001b[0m\u001b[0minputfact\u001b[0m\u001b[0;34m,\u001b[0m\u001b[0mextract\u001b[0m\u001b[0;34m=\u001b[0m\u001b[0;34m'typed-rels, dates'\u001b[0m\u001b[0;34m,\u001b[0m\u001b[0mmax_items\u001b[0m\u001b[0;34m=\u001b[0m\u001b[0;36m100\u001b[0m\u001b[0;34m)\u001b[0m\u001b[0;34m\u001b[0m\u001b[0m\n\u001b[0m\u001b[1;32m     17\u001b[0m     \u001b[0;32mif\u001b[0m \u001b[0mresponse\u001b[0m\u001b[0;34m[\u001b[0m\u001b[0;34m'status'\u001b[0m\u001b[0;34m]\u001b[0m \u001b[0;34m==\u001b[0m \u001b[0;34m'OK'\u001b[0m \u001b[0;34m:\u001b[0m\u001b[0;34m\u001b[0m\u001b[0m\n\u001b[1;32m     18\u001b[0m \u001b[0;34m\u001b[0m\u001b[0m\n",
      "\u001b[0;32m/home/yujia21/anaconda3/lib/python3.5/site-packages/watson_developer_cloud/alchemy_language_v1.py\u001b[0m in \u001b[0;36mcombined\u001b[0;34m(self, html, text, url, extract, disambiguate, linked_data, coreference, quotations, sentiment, show_source_text, max_items, base_url, language)\u001b[0m\n\u001b[1;32m    299\u001b[0m                   'language': language}\n\u001b[1;32m    300\u001b[0m         return self._alchemy_html_request('GetCombinedData', html=html,\n\u001b[0;32m--> 301\u001b[0;31m                                           text=text, url=url, params=params)\n\u001b[0m\u001b[1;32m    302\u001b[0m \u001b[0;34m\u001b[0m\u001b[0m\n\u001b[1;32m    303\u001b[0m     \u001b[0;32mdef\u001b[0m \u001b[0msentiment\u001b[0m\u001b[0;34m(\u001b[0m\u001b[0mself\u001b[0m\u001b[0;34m,\u001b[0m \u001b[0mhtml\u001b[0m\u001b[0;34m=\u001b[0m\u001b[0;32mNone\u001b[0m\u001b[0;34m,\u001b[0m \u001b[0mtext\u001b[0m\u001b[0;34m=\u001b[0m\u001b[0;32mNone\u001b[0m\u001b[0;34m,\u001b[0m \u001b[0murl\u001b[0m\u001b[0;34m=\u001b[0m\u001b[0;32mNone\u001b[0m\u001b[0;34m,\u001b[0m \u001b[0mlanguage\u001b[0m\u001b[0;34m=\u001b[0m\u001b[0;32mNone\u001b[0m\u001b[0;34m)\u001b[0m\u001b[0;34m:\u001b[0m\u001b[0;34m\u001b[0m\u001b[0m\n",
      "\u001b[0;32m/home/yujia21/anaconda3/lib/python3.5/site-packages/watson_developer_cloud/watson_developer_cloud_service.py\u001b[0m in \u001b[0;36m_alchemy_html_request\u001b[0;34m(self, method_name, url, html, text, params, method, method_url)\u001b[0m\n\u001b[1;32m    225\u001b[0m         return self.request(method=method, url=method_url, params=params,\n\u001b[1;32m    226\u001b[0m                             \u001b[0mdata\u001b[0m\u001b[0;34m=\u001b[0m\u001b[0murl_encoded_params\u001b[0m\u001b[0;34m,\u001b[0m \u001b[0mheaders\u001b[0m\u001b[0;34m=\u001b[0m\u001b[0mheaders\u001b[0m\u001b[0;34m,\u001b[0m\u001b[0;34m\u001b[0m\u001b[0m\n\u001b[0;32m--> 227\u001b[0;31m                             accept_json=True)\n\u001b[0m\u001b[1;32m    228\u001b[0m \u001b[0;34m\u001b[0m\u001b[0m\n\u001b[1;32m    229\u001b[0m     def _alchemy_image_request(self, method_name, image_file=None,\n",
      "\u001b[0;32m/home/yujia21/anaconda3/lib/python3.5/site-packages/watson_developer_cloud/watson_developer_cloud_service.py\u001b[0m in \u001b[0;36mrequest\u001b[0;34m(self, method, url, accept_json, headers, params, json, data, files, **kwargs)\u001b[0m\n\u001b[1;32m    309\u001b[0m                     \u001b[0;32mif\u001b[0m \u001b[0merror_message\u001b[0m \u001b[0;34m==\u001b[0m \u001b[0;34m'invalid-api-key'\u001b[0m\u001b[0;34m:\u001b[0m\u001b[0;34m\u001b[0m\u001b[0m\n\u001b[1;32m    310\u001b[0m                         \u001b[0mresponse\u001b[0m\u001b[0;34m.\u001b[0m\u001b[0mstatus_code\u001b[0m \u001b[0;34m=\u001b[0m \u001b[0;36m401\u001b[0m\u001b[0;34m\u001b[0m\u001b[0m\n\u001b[0;32m--> 311\u001b[0;31m                     \u001b[0;32mraise\u001b[0m \u001b[0mWatsonException\u001b[0m\u001b[0;34m(\u001b[0m\u001b[0;34m'Error: '\u001b[0m \u001b[0;34m+\u001b[0m \u001b[0merror_message\u001b[0m\u001b[0;34m)\u001b[0m\u001b[0;34m\u001b[0m\u001b[0m\n\u001b[0m\u001b[1;32m    312\u001b[0m                 \u001b[0;32mreturn\u001b[0m \u001b[0mresponse_json\u001b[0m\u001b[0;34m\u001b[0m\u001b[0m\n\u001b[1;32m    313\u001b[0m             \u001b[0;32mreturn\u001b[0m \u001b[0mresponse\u001b[0m\u001b[0;34m\u001b[0m\u001b[0m\n",
      "\u001b[0;31mWatsonException\u001b[0m: Error: unsupported-text-language"
     ]
    }
   ],
   "source": [
    "'''\n",
    "# Comment if using from Interface, decomment to test.\n",
    "while True: \n",
    "    print (\"Enter a fact:\")\n",
    "    inputfact = input()\n",
    "    keywords = extract_keywords(inputfact)\n",
    "    \n",
    "    # Lee Hsien Loong is the prime minister of Singapore\n",
    "    # The UN president is Ban Ki Moon\n",
    "    # The US is at war with Syria\n",
    "    # Laos became a member of ASEAN in 2016\n",
    "\n",
    "The UN president is Ban Ki Moon\n",
    "{'relations': [[['president', 'Ban Ki Moon'], ['UN'], 'employedBy']], 'negations': [], 'dates': []}\n",
    "Enter a fact:\n",
    "The US is at war with Syria\n",
    "{'relations': [[['US'], ['war'], 'agentOf'], [['Syria'], ['war'], 'affectedBy']], 'negations': [], 'dates': []}\n",
    "Enter a fact:\n",
    "Laos became a member of ASEAN in 2016\n",
    "{'relations': [[['member'], ['ASEAN'], 'employedBy']], 'negations': [], 'dates': [('20160101T000000', '2016')]}\n",
    "Enter a fact:\n",
    "Lee Hsien Loong is the prime minister of Singapore\n",
    "{'relations': [[['prime minister', 'Lee Hsien Loong'], ['Singapore'], 'residesIn']], 'negations': [], 'dates': []}\n",
    "Enter a fact:\n",
    "Donald Trump became president of the US in 2017\n",
    "{'relations': [[['president', 'Donald Trump'], ['US'], 'residesIn']], 'negations': [], 'dates': [('20170101T000000', '2017')]}\n",
    "'''\n"
   ]
  }
 ],
 "metadata": {
  "anaconda-cloud": {},
  "kernelspec": {
   "display_name": "Python [conda root]",
   "language": "python",
   "name": "conda-root-py"
  },
  "language_info": {
   "codemirror_mode": {
    "name": "ipython",
    "version": 3
   },
   "file_extension": ".py",
   "mimetype": "text/x-python",
   "name": "python",
   "nbconvert_exporter": "python",
   "pygments_lexer": "ipython3",
   "version": "3.5.2"
  }
 },
 "nbformat": 4,
 "nbformat_minor": 2
}
