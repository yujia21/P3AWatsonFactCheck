{
 "cells": [
  {
   "cell_type": "code",
   "execution_count": 19,
   "metadata": {
    "collapsed": false
   },
   "outputs": [
    {
     "name": "stdout",
     "output_type": "stream",
     "text": [
      "[NbConvertApp] Converting notebook Keyword_input.ipynb to script\n",
      "[NbConvertApp] Writing 2441 bytes to Keyword_input.py\n"
     ]
    }
   ],
   "source": [
    "!jupyter nbconvert --to script Keyword_input.ipynb\n",
    "\n",
    "from watson_developer_cloud import AlchemyLanguageV1\n",
    "import json\n",
    "\n",
    "from API_Key import *\n",
    "alchemy_language = AlchemyLanguageV1(api_key = api_key_chosen)"
   ]
  },
  {
   "cell_type": "code",
   "execution_count": 14,
   "metadata": {
    "collapsed": true
   },
   "outputs": [],
   "source": [
    "def extract_keywords(inputfact):\n",
    "    output = []\n",
    "    dates = []\n",
    "        \n",
    "    import re\n",
    "    n_list=[]\n",
    "    #negation\n",
    "    negation=False\n",
    "    for n in [\"no\", \"not\", \"never\", \"none\", \"noone\"] : \n",
    "        if n in re.compile('\\w+').findall(inputfact):\n",
    "            negation=True\n",
    "            n_list.append(n)\n",
    "\n",
    "    \n",
    "    #keywords\n",
    "    response = alchemy_language.combined(text=inputfact,extract='typed-rels, dates',max_items=100)\n",
    "    if response['status'] == 'OK' : \n",
    "        \n",
    "        \n",
    "        for relation in response['typedRelations']:\n",
    "            objs = []\n",
    "            for argument in relation['arguments']:\n",
    "                \n",
    "                if argument['part']=='first' : \n",
    "                    subj = argument['text']\n",
    "                    for entity in argument['entities'] : \n",
    "                        ssubj = entity['text']\n",
    "                        if not (subj == ssubj):\n",
    "                            objs.append(subj)\n",
    "                            subj = ssubj\n",
    "                            \n",
    "                if argument['part']=='second' :\n",
    "                    objs.append(argument['text'])\n",
    "                    for entity in argument['entities'] : \n",
    "                        sobj = entity['text']\n",
    "                        if not (objs[0] == sobj):\n",
    "                            objs.append(sobj)\n",
    "            \n",
    "            output.append([subj, objs, relation['type']])\n",
    "        if not (len(response['dates'])==0) :\n",
    "            for date in response['dates']:\n",
    "                dates.append((date['date'], date['text']))\n",
    "        \n",
    "    else:\n",
    "        print('Error in keyword extaction call: ', response['statusInfo'])\n",
    "    \n",
    "    # Prepositions ? \n",
    "    \n",
    "    # Semantic query expansion\n",
    "    # dbpedia : Quepy\n",
    "    # Scoping problem - Political issues. Sample queries\n",
    "    final = {}\n",
    "    final['relations'] = output\n",
    "    final['negations'] = n_list\n",
    "    final['dates'] = dates\n",
    "\n",
    "    return final"
   ]
  },
  {
   "cell_type": "code",
   "execution_count": 18,
   "metadata": {
    "collapsed": false
   },
   "outputs": [
    {
     "data": {
      "text/plain": [
       "\"\\nk1 ='Lee Hsien Loong is the prime minister of Singapore'\\nk2 = 'The UN president is Ban Ki Moon'\\nk3 = 'The US is at war with Syria'\\nk4 = 'Laos became a member of ASEAN in 2016'\\nk5 = 'Donald Trump became president of the US in 2017'\\n\\nprint(extract_keywords(k1))\\nprint(extract_keywords(k2))\\nprint(extract_keywords(k3))\\nprint(extract_keywords(k4))\\nprint(extract_keywords(k5))\\n\""
      ]
     },
     "execution_count": 18,
     "metadata": {},
     "output_type": "execute_result"
    }
   ],
   "source": [
    "'''\n",
    "k1 ='Lee Hsien Loong is the prime minister of Singapore'\n",
    "k2 = 'The UN president is Ban Ki Moon'\n",
    "k3 = 'The US is at war with Syria'\n",
    "k4 = 'Donald Trump became president of the US in 2017'\n",
    "\n",
    "print(extract_keywords(k1))\n",
    "print(extract_keywords(k2))\n",
    "print(extract_keywords(k3))\n",
    "print(extract_keywords(k4))\n",
    "'''"
   ]
  }
 ],
 "metadata": {
  "anaconda-cloud": {},
  "kernelspec": {
   "display_name": "Python [conda root]",
   "language": "python",
   "name": "conda-root-py"
  },
  "language_info": {
   "codemirror_mode": {
    "name": "ipython",
    "version": 3
   },
   "file_extension": ".py",
   "mimetype": "text/x-python",
   "name": "python",
   "nbconvert_exporter": "python",
   "pygments_lexer": "ipython3",
   "version": "3.5.2"
  }
 },
 "nbformat": 4,
 "nbformat_minor": 2
}
