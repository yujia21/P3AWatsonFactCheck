{
 "cells": [
  {
   "cell_type": "code",
   "execution_count": 43,
   "metadata": {
    "collapsed": false
   },
   "outputs": [],
   "source": [
    "from watson_developer_cloud import AlchemyLanguageV1\n",
    "import json\n",
    "\n",
    "from API_Key import *\n",
    "alchemy_language = AlchemyLanguageV1(api_key = api_key_chosen)"
   ]
  },
  {
   "cell_type": "code",
   "execution_count": 1,
   "metadata": {
    "collapsed": false
   },
   "outputs": [],
   "source": [
    "def extract_keywords(inputfact):\n",
    "    output = []\n",
    "    dates = []\n",
    "        \n",
    "    import re\n",
    "    n_list=[]\n",
    "    # negation\n",
    "    negation=False\n",
    "    for n in [\"no\", \"not\", \"never\", \"none\", \"noone\"] : \n",
    "        if n in re.compile('\\w+').findall(inputfact):\n",
    "            negation=True\n",
    "            n_list.append(n)\n",
    "\n",
    "    \n",
    "    # keywords\n",
    "    response = alchemy_language.combined(text=inputfact,extract='typed-rels, dates, entities',max_items=100)\n",
    "    if response['status'] == 'OK' : \n",
    "\n",
    "        # if there are typed relations\n",
    "        if ('typedRelations' in response.keys()):\n",
    "            # for each relation\n",
    "            for relation in response['typedRelations']:\n",
    "                objs = []\n",
    "\n",
    "                for argument in relation['arguments']:\n",
    "                    if argument['part']=='first' : \n",
    "                        # add subject\n",
    "                        subj = argument['text']\n",
    "                        # make sure we add the most specific subj\n",
    "                        for entity in argument['entities'] : \n",
    "                            ssubj = entity['text']\n",
    "                            if not (subj == ssubj):\n",
    "                                objs.append([subj, ''])\n",
    "                                # if no type, add type using results from entities\n",
    "                                for entity in response['entities'] :\n",
    "                                    if (subj == entity['text']):\n",
    "                                        objs[-1][1] = entity['type']\n",
    "                                \n",
    "                                subj = ssubj\n",
    "\n",
    "                    if argument['part']=='second' :\n",
    "                        # add object\n",
    "                        obj = argument['text']\n",
    "                        for entity in argument['entities'] : \n",
    "                            sobj = [entity['text'], entity['type']]\n",
    "                            objs.append(sobj)\n",
    "                        # make sure no repeat\n",
    "                        if obj not in [item[0] for item in objs] :\n",
    "                            objs.append([obj,''])\n",
    "                            # add type from results of entities if type not available\n",
    "                            for entity in response['entities'] :\n",
    "                                if (obj == entity['text']):\n",
    "                                    objs[-1][1] = entity['type'] \n",
    "\n",
    "                output.append([subj, objs, relation['type']])\n",
    "            \n",
    "            # add missing entities to first relation : for all entities that are not already in some relation\n",
    "            if ('entities' in response.keys()):\n",
    "                for entity in response['entities']:\n",
    "                    if (entity['text'] not in [rel[0] for rel in output]) and (entity['text'] not in [rel[1][0] for rel in output]) : \n",
    "                        #add to first\n",
    "                        output[0][1].append([entity['text'],entity['type']])\n",
    "        # if no typed relation\n",
    "        elif ('entities' in response.keys()):\n",
    "            # subject is entity with higheset relevance\n",
    "            subj = response['entities'][0]['text'] \n",
    "            objs = []\n",
    "            # add all objects\n",
    "            for entity in response['entities'][1:]:\n",
    "                objs.append(entity['text'],entity['type'])\n",
    "            # if no other object, add all other words other than subject\n",
    "            if (len(objs) == 0) :\n",
    "                objs = inputfact.split()\n",
    "                for subj_part in subj.split() : \n",
    "                    objs.remove(subj_part)\n",
    "            output.append([subj, objs, ''])\n",
    "\n",
    "        # if dates, add dates\n",
    "        if ('dates' in response.keys()) :\n",
    "            for date in response['dates']:\n",
    "                dates.append((date['date'], date['text']))\n",
    "        \n",
    "                \n",
    "        \n",
    "    else:\n",
    "        print('Error in keyword extaction call: ', response['statusInfo'])\n",
    "    \n",
    "    final = {}\n",
    "    final['relations'] = output\n",
    "    final['negations'] = n_list\n",
    "    final['dates'] = dates\n",
    "\n",
    "    return final"
   ]
  },
  {
   "cell_type": "code",
   "execution_count": 49,
   "metadata": {
    "collapsed": false
   },
   "outputs": [
    {
     "name": "stdout",
     "output_type": "stream",
     "text": [
      "[{'relevance': '0.33', 'type': 'FieldTerminology', 'text': 'Secretary General', 'count': '1'}, {'relevance': '0.33', 'type': 'GeographicFeature', 'text': 'Ban Ki Moon', 'count': '1'}, {'relevance': '0.33', 'type': 'Organization', 'text': 'UN', 'count': '1', 'disambiguated': {'opencyc': 'http://sw.opencyc.org/concept/Mx4rvVkMNpwpEbGdrcN5Y29ycA', 'yago': 'http://yago-knowledge.org/resource/United_Nations', 'subType': ['MembershipOrganization', 'AwardWinner', 'GovernmentalBody', 'TouristAttraction'], 'freebase': 'http://rdf.freebase.com/ns/m.07t65', 'website': 'http://www.un.org/', 'dbpedia': 'http://dbpedia.org/resource/United_Nations', 'name': 'United Nations'}}]\n",
      "{'relations': [['Secretary General', [['UN', 'Organization'], ['Ban Ki Moon', 'GeographicFeature'], ['UN', 'Organization']], 'employedBy']], 'dates': [], 'negations': []}\n"
     ]
    }
   ],
   "source": [
    "'''\n",
    "k0 = 'Saddam Hussein died in 2015'\n",
    "k1 ='Lee Hsien Loong is the prime minister of Singapore'\n",
    "k2 = 'The UN President is Ban Ki Moon'\n",
    "k3 = 'Donald Trump became president of the US in 2017'\n",
    "\n",
    "print(extract_keywords(k0))\n",
    "print(extract_keywords(k1))\n",
    "print(extract_keywords(k2))\n",
    "print(extract_keywords(k3))\n",
    "'''"
   ]
  }
 ],
 "metadata": {
  "anaconda-cloud": {},
  "kernelspec": {
   "display_name": "Python [conda root]",
   "language": "python",
   "name": "conda-root-py"
  },
  "language_info": {
   "codemirror_mode": {
    "name": "ipython",
    "version": 3
   },
   "file_extension": ".py",
   "mimetype": "text/x-python",
   "name": "python",
   "nbconvert_exporter": "python",
   "pygments_lexer": "ipython3",
   "version": "3.5.2"
  }
 },
 "nbformat": 4,
 "nbformat_minor": 2
}
