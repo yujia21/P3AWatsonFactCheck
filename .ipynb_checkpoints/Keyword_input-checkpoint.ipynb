{
 "cells": [
  {
   "cell_type": "code",
   "execution_count": 2,
   "metadata": {
    "collapsed": false
   },
   "outputs": [
    {
     "name": "stdout",
     "output_type": "stream",
     "text": [
      "[NbConvertApp] Converting notebook Keyword_input.ipynb to script\n",
      "[NbConvertApp] Writing 3280 bytes to Keyword_input.py\n"
     ]
    }
   ],
   "source": [
    "!jupyter nbconvert --to script Keyword_input.ipynb\n",
    "\n",
    "from watson_developer_cloud import AlchemyLanguageV1\n",
    "import json\n",
    "\n",
    "from API_Key import *\n",
    "alchemy_language = AlchemyLanguageV1(api_key = api_key_chosen)"
   ]
  },
  {
   "cell_type": "code",
   "execution_count": 4,
   "metadata": {
    "collapsed": true
   },
   "outputs": [],
   "source": [
    "def extract_keywords(inputfact):\n",
    "    subjects={} #dictionary of people/organization/country\n",
    "    subjects['Person']=[]\n",
    "    subjects['Country']=[]\n",
    "    subjects['Organization']=[]\n",
    "        \n",
    "    relations=[] #list of relations/verbs\n",
    "    objects=[]\n",
    "        \n",
    "    import re\n",
    "    n_list=[]\n",
    "    #negation\n",
    "    negation=False\n",
    "    for n in [\"no\", \"not\", \"never\", \"none\", \"noone\"] : \n",
    "        if n in re.compile('\\w+').findall(inputfact):\n",
    "            negation=True\n",
    "            n_list.append(n)\n",
    "\n",
    "    \n",
    "    #keywords\n",
    "    response = alchemy_language.combined(text=inputfact,extract='entities,typed-rels',max_items=100)\n",
    "    if response['status'] == 'OK' : \n",
    "        \n",
    "        \n",
    "        for entity in response['entities']:\n",
    "            e_type=entity['type']\n",
    "            if e_type in subjects : #either person, country or organization\n",
    "                subjects[e_type].append(entity['text'])\n",
    "            elif (e_type=='JobTitle'):\n",
    "                relations.append('worksAs')\n",
    "                objects.append(entity['text'])\n",
    "\n",
    "        for relation in response['typedRelations']:\n",
    "            for argument in relation['arguments']:\n",
    "                if argument['part']=='second' :\n",
    "                    for entity in argument['entities']:\n",
    "                        objects[entity['type']].append(entity['text'])\n",
    "            relations.append(relation['type'])\n",
    "        \n",
    "        print('The subjects are: ')\n",
    "        for key in subjects.keys() :\n",
    "            if not (len(subjects[key]) == 0) :\n",
    "                print(key+\" : \")\n",
    "                print(subjects[key])\n",
    "        print(\"\")\n",
    "        \n",
    "        print(\"The relations and verbs involved are: \")\n",
    "        print(relations)\n",
    "        print(\"\")\n",
    "        \n",
    "        print(\"The objects of these relations are: \")\n",
    "        for key in objects.keys() :\n",
    "            if not (len(objects[key]) == 0) :\n",
    "                print(key+\" : \")\n",
    "                print(objects[key])\n",
    "        print(\"\")\n",
    "    else:\n",
    "        print('Error in keyword extaction call: ', response['statusInfo'])\n",
    "    \n",
    "    if (negation) : \n",
    "        print('')\n",
    "        print('## Negations ##')\n",
    "        if (len(n_list)==1) : \n",
    "            print(\"There is a negation : \", end='')\n",
    "            print(n_list)\n",
    "        else : \n",
    "            print(\"There are negations : \", end='')\n",
    "            print(n_list)\n",
    "\n",
    "\n",
    "    # Prepositions ? \n",
    "\n",
    "    # Semantic query expansion\n",
    "    # dbpedia : Quepy\n",
    "    # Scoping problem - Political issues. Sample queries\n",
    "    print('')\n",
    "    print('')\n",
    "    \n",
    "    output = {'subjects' : subjects, \n",
    "              'relations' : relations, \n",
    "              'objects' : objects, \n",
    "              'negations' : n_list}\n",
    "    return output"
   ]
  },
  {
   "cell_type": "code",
   "execution_count": 7,
   "metadata": {
    "collapsed": false
   },
   "outputs": [
    {
     "data": {
      "text/plain": [
       "'\\n# Comment if using from Interface, decomment to test.\\nwhile True: \\n    print (\"Enter a fact:\")\\n    inputfact = input()\\n    keywords = extract_keywords(inputfact)\\n    \\n    # Lee Hsien Loong is the prime minister of Singapore\\n    # The UN president is Ban Ki Moon\\n    # The US is at war with Syria\\n    # Laos became a member of ASEAN in 2016\\n\\n'"
      ]
     },
     "execution_count": 7,
     "metadata": {},
     "output_type": "execute_result"
    }
   ],
   "source": [
    "'''\n",
    "# Comment if using from Interface, decomment to test.\n",
    "while True: \n",
    "    print (\"Enter a fact:\")\n",
    "    inputfact = input()\n",
    "    keywords = extract_keywords(inputfact)\n",
    "    \n",
    "    # Lee Hsien Loong is the prime minister of Singapore\n",
    "    # The UN president is Ban Ki Moon\n",
    "    # The US is at war with Syria\n",
    "    # Laos became a member of ASEAN in 2016\n",
    "\n",
    "'''"
   ]
  }
 ],
 "metadata": {
  "anaconda-cloud": {},
  "kernelspec": {
   "display_name": "Python [conda root]",
   "language": "python",
   "name": "conda-root-py"
  },
  "language_info": {
   "codemirror_mode": {
    "name": "ipython",
    "version": 3
   },
   "file_extension": ".py",
   "mimetype": "text/x-python",
   "name": "python",
   "nbconvert_exporter": "python",
   "pygments_lexer": "ipython3",
   "version": "3.5.2"
  }
 },
 "nbformat": 4,
 "nbformat_minor": 2
}
