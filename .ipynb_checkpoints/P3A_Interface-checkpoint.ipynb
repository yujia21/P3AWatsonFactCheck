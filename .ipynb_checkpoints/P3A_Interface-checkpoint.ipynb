{
 "cells": [
  {
   "cell_type": "code",
   "execution_count": 5,
   "metadata": {
    "collapsed": false
   },
   "outputs": [],
   "source": [
    "from Keyword_input import extract_keywords\n",
    "from Articles_search import search_from_keywords_wiki, search_from_keywords_dbpedia\n",
    "from Compare import compare_keywords, compare_keywords_dbpedia"
   ]
  },
  {
   "cell_type": "code",
   "execution_count": null,
   "metadata": {
    "collapsed": false
   },
   "outputs": [
    {
     "name": "stdout",
     "output_type": "stream",
     "text": [
      "Enter a fact:\n",
      "The UN president is Ban Ki Moon\n",
      "True\n",
      "Enter a fact:\n",
      "Lee Hsien Loong is the prime minister of Singapore\n",
      "True\n",
      "Enter a fact:\n",
      "Donald Trump became president of the US in 2017\n",
      "True\n",
      "Enter a fact:\n",
      "Emmanuel Macron is running for the president of France in 2017\n",
      "False\n",
      "Enter a fact:\n",
      "Emmanuel Macron has become the president of France in 2017\n",
      "False\n",
      "Enter a fact:\n"
     ]
    }
   ],
   "source": [
    "while True: \n",
    "    print (\"Enter a fact:\")\n",
    "    inputfact = input()\n",
    "    # Lee Hsien Loong is the prime minister of Singapore\n",
    "    # The UN president is Ban Ki Moon\n",
    "    # The US is at war with Syria\n",
    "    # Laos became a member of ASEAN in 2016\n",
    "\n",
    "    \n",
    "    # Take in inputfact as a string\n",
    "    keywords = extract_keywords(inputfact)\n",
    "    \n",
    "    # keywords is a dicationary of lists\n",
    "    # {relations : [], negations : [], dates : []}\n",
    "    # relations is a list [(list subjects, list of objects, relation)]. \n",
    "    # List of subjects can be ['president','Trump'] or just ['member']\n",
    "    # negations and dates can be empty. Else : date = [(datetime, original text)]\n",
    "    \n",
    "   \n",
    "    # Takes in keywords and searches subj[-1] on Wikipedia\n",
    "    #keywords = search_from_keywords_wiki(keywords)\n",
    "    keywords = search_from_keywords_dbpedia(keywords)\n",
    "    # keywords is a dicationary of lists\n",
    "    # {relations : [], negations : [], dates : []}\n",
    "    # relations is a list [(list subjects, list of objects, relation, good_phrases, phrases, #tot phrase)]. \n",
    "    # good_phrases has two or more key words in phrase\n",
    "\n",
    "    # Takes in keywords\n",
    "    #print(compare_keywords(keywords))\n",
    "    print(compare_keywords_dbpedia(keywords))\n",
    "    # Prints True or False\n",
    "    # Donald Trump became president of the US in 2017\n",
    "    # Lee Hsien Loong is the prime minister of Singapore\n",
    "    # The UN president is Ban Ki Moon\n",
    "    # Emmanuel Macron has become the president of France in 2017\n",
    "    # Emmanuel Macron is running for the president of France in 2017"
   ]
  }
 ],
 "metadata": {
  "anaconda-cloud": {},
  "kernelspec": {
   "display_name": "Python [conda root]",
   "language": "python",
   "name": "conda-root-py"
  },
  "language_info": {
   "codemirror_mode": {
    "name": "ipython",
    "version": 3
   },
   "file_extension": ".py",
   "mimetype": "text/x-python",
   "name": "python",
   "nbconvert_exporter": "python",
   "pygments_lexer": "ipython3",
   "version": "3.5.2"
  }
 },
 "nbformat": 4,
 "nbformat_minor": 0
}
