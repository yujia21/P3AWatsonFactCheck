{
 "cells": [
  {
   "cell_type": "code",
   "execution_count": 12,
   "metadata": {
    "collapsed": false
   },
   "outputs": [],
   "source": [
    "#!jupyter nbconvert --to script Keyword_input.ipynb\n",
    "#!jupyter nbconvert --to script Articles_search.ipynb\n",
    "#!jupyter nbconvert --to script Compare.ipynb\n",
    "\n",
    "from Keyword_input import extract_keywords\n",
    "from Articles_search import search_from_keywords_dbpedia\n",
    "from Compare import compare_keywords_dbpedia"
   ]
  },
  {
   "cell_type": "code",
   "execution_count": null,
   "metadata": {
    "collapsed": false
   },
   "outputs": [
    {
     "name": "stdout",
     "output_type": "stream",
     "text": [
      "Enter a fact : Donald Trump became president of the US in 2017\n"
     ]
    }
   ],
   "source": [
    "while True: \n",
    "    inputfact = input(\"Enter a fact : \")\n",
    "    keywords = extract_keywords(inputfact)\n",
    "    keywords = search_from_keywords_dbpedia(keywords)\n",
    "    print(compare_keywords_dbpedia(keywords, verbose=True))\n",
    "    \n",
    "\n",
    "    # Donald Trump became president of the US in 2017\n",
    "    # Lee Hsien Loong is the prime minister of Singapore\n",
    "    # Ban Ki-moon is the president of the United Nations\n",
    "    # Emmanuel Macron is running for the president of France in 2017\n",
    "    # Russia declared war on the United States of America"
   ]
  }
 ],
 "metadata": {
  "anaconda-cloud": {},
  "kernelspec": {
   "display_name": "Python [conda root]",
   "language": "python",
   "name": "conda-root-py"
  },
  "language_info": {
   "codemirror_mode": {
    "name": "ipython",
    "version": 3
   },
   "file_extension": ".py",
   "mimetype": "text/x-python",
   "name": "python",
   "nbconvert_exporter": "python",
   "pygments_lexer": "ipython3",
   "version": "3.5.2"
  }
 },
 "nbformat": 4,
 "nbformat_minor": 0
}
