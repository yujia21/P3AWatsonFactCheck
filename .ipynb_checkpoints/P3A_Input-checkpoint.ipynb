{
 "cells": [
  {
   "cell_type": "markdown",
   "metadata": {},
   "source": [
    "### input : \n",
    "    Fact checking phrase on recent news about politics\n",
    "### output : \n",
    "    Goes to next function that queries alchemy news and databases\n",
    "#### types of facts: \n",
    "    person facts : list of person names\n",
    "    country facts : list of countries involved\n",
    "    organization facts : list of org (UN, etc.)\n",
    "    \n",
    "#### verbs and relations : \n",
    "    if person: resides in, works for, employed by, \n",
    "    countries / organizations : affected by, agent of \n",
    "    \n",
    "### TODO :\n",
    "    Retrieve more entities than AlchemyAPI gives"
   ]
  },
  {
   "cell_type": "code",
   "execution_count": 8,
   "metadata": {
    "collapsed": false
   },
   "outputs": [
    {
     "ename": "WatsonException",
     "evalue": "You must specify your username and password service credentials (Note: these are different from your Bluemix id)",
     "output_type": "error",
     "traceback": [
      "\u001b[0;31m---------------------------------------------------------------------------\u001b[0m",
      "\u001b[0;31mWatsonException\u001b[0m                           Traceback (most recent call last)",
      "\u001b[0;32m<ipython-input-8-119b7a83d421>\u001b[0m in \u001b[0;36m<module>\u001b[0;34m()\u001b[0m\n\u001b[1;32m      6\u001b[0m \u001b[0mapi_key_alvo\u001b[0m \u001b[0;34m=\u001b[0m \u001b[0;34m''\u001b[0m\u001b[0;34m\u001b[0m\u001b[0m\n\u001b[1;32m      7\u001b[0m \u001b[0;34m\u001b[0m\u001b[0m\n\u001b[0;32m----> 8\u001b[0;31m \u001b[0malchemy_language\u001b[0m \u001b[0;34m=\u001b[0m \u001b[0mAlchemyLanguageV1\u001b[0m\u001b[0;34m(\u001b[0m\u001b[0mapi_key_yj\u001b[0m\u001b[0;34m)\u001b[0m\u001b[0;34m\u001b[0m\u001b[0m\n\u001b[0m\u001b[1;32m      9\u001b[0m \u001b[0;34m\u001b[0m\u001b[0m\n\u001b[1;32m     10\u001b[0m \u001b[0;32mfrom\u001b[0m \u001b[0mipywidgets\u001b[0m \u001b[0;32mimport\u001b[0m \u001b[0mwidgets\u001b[0m\u001b[0;34m,\u001b[0m \u001b[0minteract\u001b[0m\u001b[0;34m\u001b[0m\u001b[0m\n",
      "\u001b[0;32m/home/yujia21/anaconda3/lib/python3.5/site-packages/watson_developer_cloud/alchemy_language_v1.py\u001b[0m in \u001b[0;36m__init__\u001b[0;34m(self, url, **kwargs)\u001b[0m\n\u001b[1;32m     25\u001b[0m     \u001b[0;32mdef\u001b[0m \u001b[0m__init__\u001b[0m\u001b[0;34m(\u001b[0m\u001b[0mself\u001b[0m\u001b[0;34m,\u001b[0m \u001b[0murl\u001b[0m\u001b[0;34m=\u001b[0m\u001b[0mdefault_url\u001b[0m\u001b[0;34m,\u001b[0m \u001b[0;34m**\u001b[0m\u001b[0mkwargs\u001b[0m\u001b[0;34m)\u001b[0m\u001b[0;34m:\u001b[0m\u001b[0;34m\u001b[0m\u001b[0m\n\u001b[1;32m     26\u001b[0m         WatsonDeveloperCloudService.__init__(self, 'alchemy_api', url,\n\u001b[0;32m---> 27\u001b[0;31m                                              **kwargs)\n\u001b[0m\u001b[1;32m     28\u001b[0m \u001b[0;34m\u001b[0m\u001b[0m\n\u001b[1;32m     29\u001b[0m     \u001b[0;32mdef\u001b[0m \u001b[0mauthor\u001b[0m\u001b[0;34m(\u001b[0m\u001b[0mself\u001b[0m\u001b[0;34m,\u001b[0m \u001b[0mhtml\u001b[0m\u001b[0;34m=\u001b[0m\u001b[0;32mNone\u001b[0m\u001b[0;34m,\u001b[0m \u001b[0murl\u001b[0m\u001b[0;34m=\u001b[0m\u001b[0;32mNone\u001b[0m\u001b[0;34m,\u001b[0m \u001b[0mlanguage\u001b[0m\u001b[0;34m=\u001b[0m\u001b[0;32mNone\u001b[0m\u001b[0;34m)\u001b[0m\u001b[0;34m:\u001b[0m\u001b[0;34m\u001b[0m\u001b[0m\n",
      "\u001b[0;32m/home/yujia21/anaconda3/lib/python3.5/site-packages/watson_developer_cloud/watson_developer_cloud_service.py\u001b[0m in \u001b[0;36m__init__\u001b[0;34m(self, vcap_services_name, url, username, password, use_vcap_services, api_key, x_watson_learning_opt_out)\u001b[0m\n\u001b[1;32m    131\u001b[0m                 \u001b[0;34m'You must specify your username and password service '\u001b[0m\u001b[0;34m\u001b[0m\u001b[0m\n\u001b[1;32m    132\u001b[0m                 \u001b[0;34m'credentials '\u001b[0m \u001b[0;34m+\u001b[0m\u001b[0;34m\u001b[0m\u001b[0m\n\u001b[0;32m--> 133\u001b[0;31m                 '(Note: these are different from your Bluemix id)')\n\u001b[0m\u001b[1;32m    134\u001b[0m \u001b[0;34m\u001b[0m\u001b[0m\n\u001b[1;32m    135\u001b[0m     \u001b[0;32mdef\u001b[0m \u001b[0mset_username_and_password\u001b[0m\u001b[0;34m(\u001b[0m\u001b[0mself\u001b[0m\u001b[0;34m,\u001b[0m \u001b[0musername\u001b[0m\u001b[0;34m=\u001b[0m\u001b[0;32mNone\u001b[0m\u001b[0;34m,\u001b[0m \u001b[0mpassword\u001b[0m\u001b[0;34m=\u001b[0m\u001b[0;32mNone\u001b[0m\u001b[0;34m)\u001b[0m\u001b[0;34m:\u001b[0m\u001b[0;34m\u001b[0m\u001b[0m\n",
      "\u001b[0;31mWatsonException\u001b[0m: You must specify your username and password service credentials (Note: these are different from your Bluemix id)"
     ]
    }
   ],
   "source": [
    "import json\n",
    "from watson_developer_cloud import AlchemyLanguageV1\n",
    "\n",
    "api_key_jb = 'd16af6322d6b6049602f298bb9510751a80e2ea7'\n",
    "api_key_yj = '6b686d275c4cce6fe46efcbffd38a73f526c921c'\n",
    "api_key_alvo = ''\n",
    "\n",
    "alchemy_language = AlchemyLanguageV1(api_key=api_key_yj)\n",
    "\n",
    "from ipywidgets import widgets, interact\n",
    "from IPython.display import display"
   ]
  },
  {
   "cell_type": "code",
   "execution_count": 2,
   "metadata": {
    "collapsed": false
   },
   "outputs": [],
   "source": [
    "def extract_keywords(inputfact):\n",
    "    subjects={} #dictionary of people/organization/country\n",
    "    subjects['Person']=[]\n",
    "    subjects['Country']=[]\n",
    "    subjects['Organization']=[]\n",
    "    subjects['Unsorted Subjects']=[]\n",
    "        \n",
    "    relations=[] #list of relations/verbs\n",
    "    objects=[]\n",
    "        \n",
    "    import re\n",
    "    n_list=[]\n",
    "    #negation\n",
    "    negation=False\n",
    "    for n in [\"no\", \"not\", \"never\", \"none\", \"noone\"] : \n",
    "        if n in re.compile('\\w+').findall(inputfact):\n",
    "            negation=True\n",
    "            n_list.append(n)\n",
    "\n",
    "    \n",
    "    #keywords\n",
    "    response = alchemy_language.combined(text=inputfact,extract='entities,typed-rels',max_items=100)\n",
    "    if response['status'] == 'OK' : \n",
    "        \n",
    "        \n",
    "        for entity in response['entities']:\n",
    "            e_type=entity['type']\n",
    "            if e_type in subjects : #either person, country or organization\n",
    "                subjects[e_type].append(entity['text'])\n",
    "            elif (e_type=='JobTitle'):\n",
    "                relations.append('worksAs')\n",
    "                objects.append(entity['text'])\n",
    "\n",
    "        for relation in response['typedRelations']:\n",
    "            for argument in relation['arguments']:\n",
    "                if argument['part']=='second' :\n",
    "                    for entity in argument['entities']:\n",
    "                        subjects['Unsorted Subjects'].append(entity['text'])\n",
    "                if argument['part']=='second' :\n",
    "                    for entity in argument['entities']:\n",
    "                        objects.append(entity['text'])\n",
    "            relations.append(relation['type'])\n",
    "        \n",
    "        print('This fact is about: ')\n",
    "        for key in subjects.keys() :\n",
    "            if not (len(subjects[key]) == 0) :\n",
    "                print(key+\" : \")\n",
    "                print(subjects[key])\n",
    "        print(\"\")\n",
    "        \n",
    "        print(\"The relations and verbs involved are: \")\n",
    "        print(relations)\n",
    "        print(\"\")\n",
    "        \n",
    "        print(\"The objects of these relations are: \")\n",
    "        print(objects)\n",
    "        print(\"\")\n",
    "    else:\n",
    "        print('Error in keyword extaction call: ', response['statusInfo'])\n",
    "    \n",
    "    if (negation) : \n",
    "        print('')\n",
    "        print('## Negations ##')\n",
    "        if (len(n_list)==1) : \n",
    "            print(\"There is a negation : \", end='')\n",
    "            print(n_list)\n",
    "        else : \n",
    "            print(\"There are negations : \", end='')\n",
    "            print(n_list)\n",
    "\n",
    "\n",
    "    # Prepositions ? \n",
    "\n",
    "    # Semantic query expansion\n",
    "    # dbpedia : Quepy\n",
    "    # Scoping problem - Political issues. Sample queries\n",
    "    print('')\n",
    "    print('')\n",
    "    \n",
    "    output = {'subjects' : subjects, \n",
    "              'relations' : relations, \n",
    "              'objects' : objects, \n",
    "              'negations' : n_list}\n",
    "    return output"
   ]
  },
  {
   "cell_type": "code",
   "execution_count": null,
   "metadata": {
    "collapsed": true
   },
   "outputs": [],
   "source": [
    "def search_sources(keywords) : \n",
    "    references = []\n",
    "    words_found = []\n",
    "    print (\"Sources used : \")\n",
    "    for ref in references : \n",
    "        print (ref)\n",
    "    return words_found"
   ]
  },
  {
   "cell_type": "code",
   "execution_count": null,
   "metadata": {
    "collapsed": true
   },
   "outputs": [],
   "source": [
    "def compare(words_found, keywords):\n",
    "    result = True\n",
    "    print (\"This fact is : \"+str(result)+\" with \"+str(confidence)+\" confidence.\")"
   ]
  },
  {
   "cell_type": "code",
   "execution_count": null,
   "metadata": {
    "collapsed": false
   },
   "outputs": [
    {
     "name": "stdout",
     "output_type": "stream",
     "text": [
      "Enter a fact:\n",
      "Laos became a member of ASEAN in 2016\n",
      "This fact is about: \n",
      "Country : \n",
      "['Laos']\n",
      "Organization : \n",
      "['ASEAN']\n",
      "Unsorted : \n",
      "['ASEAN']\n",
      "\n",
      "The relations and verbs involved are: \n",
      "['employedBy']\n",
      "\n",
      "The objects of these relations are: \n",
      "['ASEAN']\n",
      "\n",
      "\n",
      "\n",
      "Enter a fact:\n",
      "Obama is the prime minister of UK\n",
      "This fact is about: \n",
      "Country : \n",
      "['UK']\n",
      "Person : \n",
      "['Obama']\n",
      "Unsorted : \n",
      "['UK']\n",
      "\n",
      "The relations and verbs involved are: \n",
      "['worksAs', 'residesIn']\n",
      "\n",
      "The objects of these relations are: \n",
      "['prime minister', 'UK']\n",
      "\n",
      "\n",
      "\n",
      "Enter a fact:\n"
     ]
    }
   ],
   "source": [
    "while True: \n",
    "    print (\"Enter a fact:\")\n",
    "    inputfact = input()\n",
    "    keywords = extract_keywords(inputfact)\n",
    "    \n",
    "    # Lee Hsien Loong is the prime minister of Singapore\n",
    "    # The UN president is Ban Ki Moon\n",
    "    # The US is at war with Syria\n",
    "    # Laos became a member of ASEAN in 2016\n",
    "    \n",
    "    # Pass keywords to search engine\n",
    "    # search_sources prints sources found, returns a list of words to compare and % \"trustability\"\n",
    "    words_found = search_sources(keywords)\n",
    "    \n",
    "    # Compare references and keywords\n",
    "    # compare prints a true or false, with rate of confidence\n",
    "    \n",
    "    compare(words_found, keywords)"
   ]
  }
 ],
 "metadata": {
  "anaconda-cloud": {},
  "kernelspec": {
   "display_name": "Python [conda root]",
   "language": "python",
   "name": "conda-root-py"
  },
  "language_info": {
   "codemirror_mode": {
    "name": "ipython",
    "version": 3
   },
   "file_extension": ".py",
   "mimetype": "text/x-python",
   "name": "python",
   "nbconvert_exporter": "python",
   "pygments_lexer": "ipython3",
   "version": "3.5.2"
  }
 },
 "nbformat": 4,
 "nbformat_minor": 0
}
