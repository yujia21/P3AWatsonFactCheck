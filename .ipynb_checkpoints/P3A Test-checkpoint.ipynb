{
 "cells": [
  {
   "cell_type": "code",
   "execution_count": 47,
   "metadata": {
    "collapsed": true
   },
   "outputs": [],
   "source": [
    "from alchemyapi import AlchemyAPI\n",
    "import json\n",
    "alchemyapi = AlchemyAPI()\n",
    "\n",
    "from ipywidgets import widgets, interact\n",
    "from IPython.display import display"
   ]
  },
  {
   "cell_type": "code",
   "execution_count": 57,
   "metadata": {
    "collapsed": true
   },
   "outputs": [],
   "source": [
    "def extract_keywords(inputfact):\n",
    "    response = alchemyapi.combined(\"text\", inputfact)\n",
    "    if response['status'] == 'OK' : \n",
    "        print('## Keywords ##')\n",
    "        for keyword in response['keywords']:\n",
    "            print('text: ', keyword['text'].encode('utf-8'))\n",
    "            print('relevance: ', keyword['relevance'])\n",
    "        print('')\n",
    "        print('## Entities ##')\n",
    "        for entity in response['entities']:\n",
    "            print('text: ', entity['text'].encode('utf-8'))\n",
    "            print('type: ', entity['type'])\n",
    "            print('relevance: ', entity['relevance'])\n",
    "        print('')\n",
    "        print('## Concepts ##')\n",
    "        for concept in response['concepts']:\n",
    "            print('text: ', concept['text'].encode('utf-8'))\n",
    "            print('relevance: ', concept['relevance'])\n",
    "            \n",
    "    else:\n",
    "        print('Error in keyword extaction call: ', response['statusInfo'])\n",
    "    return True"
   ]
  },
  {
   "cell_type": "code",
   "execution_count": 58,
   "metadata": {
    "collapsed": false
   },
   "outputs": [
    {
     "name": "stdout",
     "output_type": "stream",
     "text": [
      "Enter a fact:\n",
      "Barack Obama is dead\n",
      "('Connection aborted.', ConnectionResetError(104, 'Connection reset by peer'))\n",
      "Error in keyword extaction call:  network-error\n"
     ]
    }
   ],
   "source": [
    "#Else if python\n",
    "print (\"Enter a fact:\")\n",
    "inputfact = input()\n",
    "\n",
    "extract_keywords(inputfact)"
   ]
  },
  {
   "cell_type": "code",
   "execution_count": 53,
   "metadata": {
    "collapsed": false
   },
   "outputs": [
    {
     "name": "stdout",
     "output_type": "stream",
     "text": [
      "Your fact is : Barack Obama has two wives\n",
      "('Connection aborted.', ConnectionResetError(104, 'Connection reset by peer'))\n",
      "Error in keyword extaction call:  network-error\n",
      "\n",
      "Enter a new fact!\n",
      "\n",
      "Your fact is : Barack Obama has two wives\n",
      "## Keywords ##\n",
      "text:  b'Barack Obama'\n",
      "relevance:  0.979046\n",
      "text:  b'wives'\n",
      "relevance:  0.711017\n",
      "\n",
      "## Entities ##\n",
      "text:  b'Barack Obama'\n",
      "type:  Person\n",
      "relevance:  0.33\n",
      "\n",
      "## Concepts ##\n",
      "text:  b'Barack Obama'\n",
      "relevance:  0.92115\n",
      "\n",
      "Enter a new fact!\n",
      "\n"
     ]
    }
   ],
   "source": [
    "'''\n",
    "#If iPython : widgets\n",
    "\n",
    "text = widgets.Text(placeholder='Enter your fact here!')\n",
    "display(text)\n",
    "\n",
    "def handle_submit(sender):\n",
    "    print(\"Your fact is : \"+text.value)\n",
    "    extract_keywords(text.value)\n",
    "    \n",
    "text.on_submit(handle_submit)\n",
    "'''"
   ]
  }
 ],
 "metadata": {
  "anaconda-cloud": {},
  "kernelspec": {
   "display_name": "Python [Root]",
   "language": "python",
   "name": "Python [Root]"
  },
  "language_info": {
   "codemirror_mode": {
    "name": "ipython",
    "version": 3
   },
   "file_extension": ".py",
   "mimetype": "text/x-python",
   "name": "python",
   "nbconvert_exporter": "python",
   "pygments_lexer": "ipython3",
   "version": "3.5.2"
  }
 },
 "nbformat": 4,
 "nbformat_minor": 0
}
