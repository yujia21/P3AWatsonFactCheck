{
 "cells": [
  {
   "cell_type": "code",
   "execution_count": 47,
   "metadata": {
    "collapsed": true
   },
   "outputs": [],
   "source": [
    "from alchemyapi import AlchemyAPI\n",
    "import json\n",
    "alchemyapi = AlchemyAPI()\n",
    "\n",
    "from ipywidgets import widgets, interact\n",
    "from IPython.display import display"
   ]
  },
  {
   "cell_type": "code",
   "execution_count": 52,
   "metadata": {
    "collapsed": false
   },
   "outputs": [],
   "source": [
    "def extract_keywords(inputfact):\n",
    "    print(\"Your text is : \"+inputfact)\n",
    "    \n",
    "    import re\n",
    "    n_list=[]\n",
    "    #negation\n",
    "    negation=False\n",
    "    for n in [\"no\", \"not\", \"never\", \"none\", \"noone\"] : \n",
    "        if n in re.compile('\\w+').findall(inputfact):\n",
    "            negation=True\n",
    "            n_list.append(n)\n",
    "\n",
    "    \n",
    "    #keywords\n",
    "    response = alchemyapi.entities(\"text\", inputfact)\n",
    "    if response['status'] == 'OK' : \n",
    "        print('## Entities ##')\n",
    "        entity_types=[]\n",
    "        for entity in response:\n",
    "            print('text: ', entity['text'].encode('utf-8'))\n",
    "            print('type: ', entity['type'])\n",
    "            if entity['type'] not in entity_types : \n",
    "                entity_types.append(entity['type'])\n",
    "            print('relevance: ', entity['relevance'])\n",
    "        print('')\n",
    "        print(entity_types)\n",
    "        print('')\n",
    "    else:\n",
    "        print('Error in keyword extaction call: ', response['statusInfo'])\n",
    "    '''\n",
    "    relations_response = alchemyapi.typed_relations(\"text\", inputfact)\n",
    "    if relations_response['status'] == 'OK' : \n",
    "        print('## Relations ##')\n",
    "        for relation in relations_response:\n",
    "            for entities in relation['entities']:\n",
    "                print(entities['text'].encode('utf-8'))\n",
    "            print('relation: ', relation['type'].encode('utf-8'))\n",
    "    else:\n",
    "        print('Error in keyword extaction call: ', relations_response['statusInfo'])\n",
    "    '''   \n",
    "    if (negation) : \n",
    "        print('')\n",
    "        print('## Negations ##')\n",
    "        if (len(n_list)==1) : \n",
    "            print(\"There is a negation : \", end='')\n",
    "            print(n_list)\n",
    "        else : \n",
    "            print(\"There are negations : \", end='')\n",
    "            print(n_list)\n",
    "\n",
    "    # customed models for type relations? need to pay to create ML model\n",
    "    # Prepositions ? \n",
    "\n",
    "    # Semantic query expansion\n",
    "    # dbpedia : Quepy\n",
    "    # Scoping problem - Political issues. Sample queries\n",
    "        \n",
    "   \n",
    "    print('')\n",
    "    print('')"
   ]
  },
  {
   "cell_type": "code",
   "execution_count": 53,
   "metadata": {
    "collapsed": false
   },
   "outputs": [
    {
     "name": "stdout",
     "output_type": "stream",
     "text": [
      "Enter a fact:\n",
      "Lee Hsien Loong is the prime minister of Singapore\n",
      "Your text is : Lee Hsien Loong is the prime minister of Singapore\n"
     ]
    },
    {
     "ename": "TypeError",
     "evalue": "'set' object does not support item assignment",
     "output_type": "error",
     "traceback": [
      "\u001b[0;31m---------------------------------------------------------------------------\u001b[0m",
      "\u001b[0;31mTypeError\u001b[0m                                 Traceback (most recent call last)",
      "\u001b[0;32m<ipython-input-53-0cc851f43988>\u001b[0m in \u001b[0;36m<module>\u001b[0;34m()\u001b[0m\n\u001b[1;32m      2\u001b[0m     \u001b[0mprint\u001b[0m \u001b[0;34m(\u001b[0m\u001b[0;34m\"Enter a fact:\"\u001b[0m\u001b[0;34m)\u001b[0m\u001b[0;34m\u001b[0m\u001b[0m\n\u001b[1;32m      3\u001b[0m     \u001b[0minputfact\u001b[0m \u001b[0;34m=\u001b[0m \u001b[0minput\u001b[0m\u001b[0;34m(\u001b[0m\u001b[0;34m)\u001b[0m\u001b[0;34m\u001b[0m\u001b[0m\n\u001b[0;32m----> 4\u001b[0;31m     \u001b[0mextract_keywords\u001b[0m\u001b[0;34m(\u001b[0m\u001b[0minputfact\u001b[0m\u001b[0;34m)\u001b[0m\u001b[0;34m\u001b[0m\u001b[0m\n\u001b[0m\u001b[1;32m      5\u001b[0m \u001b[0;34m\u001b[0m\u001b[0m\n\u001b[1;32m      6\u001b[0m     \u001b[0;31m#Lee Hsien Loong is the prime minister of Singapore\u001b[0m\u001b[0;34m\u001b[0m\u001b[0;34m\u001b[0m\u001b[0m\n",
      "\u001b[0;32m<ipython-input-52-3536c0a914a3>\u001b[0m in \u001b[0;36mextract_keywords\u001b[0;34m(inputfact)\u001b[0m\n\u001b[1;32m     13\u001b[0m \u001b[0;34m\u001b[0m\u001b[0m\n\u001b[1;32m     14\u001b[0m     \u001b[0;31m#keywords\u001b[0m\u001b[0;34m\u001b[0m\u001b[0;34m\u001b[0m\u001b[0m\n\u001b[0;32m---> 15\u001b[0;31m     \u001b[0mresponse\u001b[0m \u001b[0;34m=\u001b[0m \u001b[0malchemyapi\u001b[0m\u001b[0;34m.\u001b[0m\u001b[0mentities\u001b[0m\u001b[0;34m(\u001b[0m\u001b[0;34m\"text\"\u001b[0m\u001b[0;34m,\u001b[0m \u001b[0minputfact\u001b[0m\u001b[0;34m,\u001b[0m \u001b[0;34m{\u001b[0m\u001b[0;36m1\u001b[0m\u001b[0;34m,\u001b[0m\u001b[0;36m1\u001b[0m\u001b[0;34m,\u001b[0m\u001b[0;36m1\u001b[0m\u001b[0;34m,\u001b[0m\u001b[0;36m1\u001b[0m\u001b[0;34m,\u001b[0m\u001b[0;36m1\u001b[0m\u001b[0;34m,\u001b[0m\u001b[0;36m1\u001b[0m\u001b[0;34m,\u001b[0m\u001b[0;36m5\u001b[0m\u001b[0;34m}\u001b[0m\u001b[0;34m)\u001b[0m\u001b[0;34m\u001b[0m\u001b[0m\n\u001b[0m\u001b[1;32m     16\u001b[0m     \u001b[0;32mif\u001b[0m \u001b[0mresponse\u001b[0m\u001b[0;34m[\u001b[0m\u001b[0;34m'status'\u001b[0m\u001b[0;34m]\u001b[0m \u001b[0;34m==\u001b[0m \u001b[0;34m'OK'\u001b[0m \u001b[0;34m:\u001b[0m\u001b[0;34m\u001b[0m\u001b[0m\n\u001b[1;32m     17\u001b[0m         \u001b[0mprint\u001b[0m\u001b[0;34m(\u001b[0m\u001b[0;34m'## Entities ##'\u001b[0m\u001b[0;34m)\u001b[0m\u001b[0;34m\u001b[0m\u001b[0m\n",
      "\u001b[0;32m/media/yujia21/DATA/X/3A/Projet/src/test/alchemyapi_python/alchemyapi.py\u001b[0m in \u001b[0;36mentities\u001b[0;34m(self, flavor, data, options)\u001b[0m\n\u001b[1;32m    209\u001b[0m         \u001b[0mThe\u001b[0m \u001b[0mresponse\u001b[0m\u001b[0;34m,\u001b[0m \u001b[0malready\u001b[0m \u001b[0mconverted\u001b[0m \u001b[0;32mfrom\u001b[0m \u001b[0mJSON\u001b[0m \u001b[0mto\u001b[0m \u001b[0ma\u001b[0m \u001b[0mPython\u001b[0m \u001b[0mobject\u001b[0m\u001b[0;34m.\u001b[0m\u001b[0;34m\u001b[0m\u001b[0m\n\u001b[1;32m    210\u001b[0m         \"\"\"\n\u001b[0;32m--> 211\u001b[0;31m \u001b[0;34m\u001b[0m\u001b[0m\n\u001b[0m\u001b[1;32m    212\u001b[0m         \u001b[0;31m# Make sure this request supports this flavor\u001b[0m\u001b[0;34m\u001b[0m\u001b[0;34m\u001b[0m\u001b[0m\n\u001b[1;32m    213\u001b[0m         \u001b[0;32mif\u001b[0m \u001b[0mflavor\u001b[0m \u001b[0;32mnot\u001b[0m \u001b[0;32min\u001b[0m \u001b[0mAlchemyAPI\u001b[0m\u001b[0;34m.\u001b[0m\u001b[0mENDPOINTS\u001b[0m\u001b[0;34m[\u001b[0m\u001b[0;34m'entities'\u001b[0m\u001b[0;34m]\u001b[0m\u001b[0;34m:\u001b[0m\u001b[0;34m\u001b[0m\u001b[0m\n",
      "\u001b[0;31mTypeError\u001b[0m: 'set' object does not support item assignment"
     ]
    }
   ],
   "source": [
    "while (True) : \n",
    "    print (\"Enter a fact:\")\n",
    "    inputfact = input()\n",
    "    extract_keywords(inputfact)\n",
    "    \n",
    "    #Lee Hsien Loong is the prime minister of Singapore"
   ]
  }
 ],
 "metadata": {
  "anaconda-cloud": {},
  "kernelspec": {
   "display_name": "Python [conda root]",
   "language": "python",
   "name": "conda-root-py"
  },
  "language_info": {
   "codemirror_mode": {
    "name": "ipython",
    "version": 3
   },
   "file_extension": ".py",
   "mimetype": "text/x-python",
   "name": "python",
   "nbconvert_exporter": "python",
   "pygments_lexer": "ipython3",
   "version": "3.5.2"
  }
 },
 "nbformat": 4,
 "nbformat_minor": 0
}
