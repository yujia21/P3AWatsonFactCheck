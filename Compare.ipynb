{
 "cells": [
  {
   "cell_type": "code",
   "execution_count": null,
   "metadata": {
    "collapsed": true
   },
   "outputs": [],
   "source": [
    "!jupyter nbconvert --to script Compare.ipynb"
   ]
  },
  {
   "cell_type": "code",
   "execution_count": null,
   "metadata": {
    "collapsed": true,
    "deletable": true,
    "editable": true
   },
   "outputs": [],
   "source": [
    "def compare_keywords(sentences_found):\n",
    "    sentences_found[1]\n",
    "    dat_init = sentences_found[2]\n",
    "\n",
    "    nb_phrases = 0\n",
    "    nb_good_phrases = 0\n",
    "    nb_gp_per_rel = []\n",
    "    nb_p_per_rel = []\n",
    "    for rel in sentences_found[0]:\n",
    "        nb_phrases += len(rel['phrases'])\n",
    "        nb_good_phrases += len(rel['good_phrases'])\n",
    "        nb_p_per_rel.append(len(rel['phrases']))\n",
    "        nb_gp_per_rel.append(len(rel['good_phrases']))\n",
    "    \n",
    "    p = 1/float(nb_phrases+nb_good_phrases)\n",
    "    final_prob = 0\n",
    "    \n",
    "    for rel in sentences_found[0]:\n",
    "        for phrase in rel['phrases']:\n",
    "            final_prob += 0.5 * p\n",
    "        for gd_phrase in rel['good_phrases']:\n",
    "            final_prob += p\n",
    "            \n",
    "    if final_prob >= 0.7:\n",
    "        print('True')"
   ]
  }
 ],
 "metadata": {
  "kernelspec": {
   "display_name": "Python 3",
   "language": "python",
   "name": "python3"
  },
  "language_info": {
   "codemirror_mode": {
    "name": "ipython",
    "version": 3
   },
   "file_extension": ".py",
   "mimetype": "text/x-python",
   "name": "python",
   "nbconvert_exporter": "python",
   "pygments_lexer": "ipython3",
   "version": "3.5.2"
  }
 },
 "nbformat": 4,
 "nbformat_minor": 2
}
