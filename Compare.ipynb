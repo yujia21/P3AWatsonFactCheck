{
 "cells": [
  {
   "cell_type": "code",
   "execution_count": 1,
   "metadata": {
    "collapsed": false
   },
   "outputs": [
    {
     "name": "stdout",
     "output_type": "stream",
     "text": [
      "[NbConvertApp] Converting notebook Compare.ipynb to script\n",
      "[NbConvertApp] Writing 1132 bytes to Compare.py\n"
     ]
    }
   ],
   "source": [
    "!jupyter nbconvert --to script Compare.ipynb"
   ]
  },
  {
   "cell_type": "code",
   "execution_count": 2,
   "metadata": {
    "collapsed": false,
    "deletable": true,
    "editable": true
   },
   "outputs": [],
   "source": [
    "def compare_keywords(keywords):\n",
    "    nb_phrases = 0\n",
    "    nb_good_phrases = 0\n",
    "    nb_gp_per_rel = []\n",
    "    nb_p_per_rel = []\n",
    "    page_phrases = 0\n",
    "    \n",
    "    for rel in keywords['relations']:\n",
    "        phrases = list(set([phrase for sublist in rel[4] for phrase in sublist]))\n",
    "        nb_phrases += len(phrases)\n",
    "        nb_good_phrases += len(rel[3])\n",
    "        nb_p_per_rel.append(len(phrases))\n",
    "        nb_gp_per_rel.append(len(rel[3]))\n",
    "        page_phrases += rel[5]\n",
    "        print('Total sentences : '+str(rel[5]))\n",
    "        print('Total sentences with 1 keyword : '+str(len(phrases)))\n",
    "        print('Total sentences with 2 keywords: '+str(len(rel[3])))\n",
    "\n",
    "    p = 1/float(nb_phrases+nb_good_phrases)\n",
    "    final_prob = 0\n",
    "    \n",
    "    for rel in keywords['relations']:\n",
    "        for phrase in phrases:\n",
    "            final_prob += 0.5 * p\n",
    "        for gd_phrase in rel[3]:\n",
    "            final_prob += p\n",
    "    \n",
    "    if (final_prob >= 0.5) and (nb_phrases/page_phrases >=0.1) :\n",
    "        print('True')\n",
    "    else : \n",
    "        print('False')\n",
    "    print(final_prob)\n",
    "    print('')"
   ]
  }
 ],
 "metadata": {
  "anaconda-cloud": {},
  "kernelspec": {
   "display_name": "Python [default]",
   "language": "python",
   "name": "python3"
  },
  "language_info": {
   "codemirror_mode": {
    "name": "ipython",
    "version": 3
   },
   "file_extension": ".py",
   "mimetype": "text/x-python",
   "name": "python",
   "nbconvert_exporter": "python",
   "pygments_lexer": "ipython3",
   "version": "3.5.2"
  }
 },
 "nbformat": 4,
 "nbformat_minor": 2
}
