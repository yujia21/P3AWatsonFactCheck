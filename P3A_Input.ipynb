{
 "cells": [
  {
   "cell_type": "markdown",
   "metadata": {},
   "source": [
    "### input : \n",
    "    Fact checking phrase on recent news about politics\n",
    "### output : \n",
    "    Goes to next function that queries alchemy news and databases\n",
    "#### types of facts: \n",
    "    person facts : list of person names\n",
    "    country facts : list of countries involved\n",
    "    organization facts : list of org (UN, etc.)\n",
    "    \n",
    "#### verbs and relations : \n",
    "    if person: resides in, works for, employed by, \n",
    "    countries / organizations : affected by, agent of \n",
    "    \n",
    "### TODO :\n",
    "    Retrieve more entities than AlchemyAPI gives"
   ]
  },
  {
   "cell_type": "code",
   "execution_count": 11,
   "metadata": {
    "collapsed": false
   },
   "outputs": [],
   "source": [
    "import json\n",
    "from API_Key import *\n",
    "from watson_developer_cloud import AlchemyLanguageV1\n",
    "\n",
    "alchemy_language = AlchemyLanguageV1(api_key=api_key_yj)\n",
    "\n",
    "from ipywidgets import widgets, interact\n",
    "from IPython.display import display"
   ]
  },
  {
   "cell_type": "code",
   "execution_count": 2,
   "metadata": {
    "collapsed": false
   },
   "outputs": [],
   "source": [
    "def extract_keywords(inputfact):\n",
    "    subjects={} #dictionary of people/organization/country\n",
    "    subjects['Person']=[]\n",
    "    subjects['Country']=[]\n",
    "    subjects['Organization']=[]\n",
    "    subjects['Unsorted Subjects']=[]\n",
    "        \n",
    "    relations=[] #list of relations/verbs\n",
    "    objects=[]\n",
    "        \n",
    "    import re\n",
    "    n_list=[]\n",
    "    #negation\n",
    "    negation=False\n",
    "    for n in [\"no\", \"not\", \"never\", \"none\", \"noone\"] : \n",
    "        if n in re.compile('\\w+').findall(inputfact):\n",
    "            negation=True\n",
    "            n_list.append(n)\n",
    "\n",
    "    \n",
    "    #keywords\n",
    "    response = alchemy_language.combined(text=inputfact,extract='entities,typed-rels',max_items=100)\n",
    "    if response['status'] == 'OK' : \n",
    "        \n",
    "        \n",
    "        for entity in response['entities']:\n",
    "            e_type=entity['type']\n",
    "            if e_type in subjects : #either person, country or organization\n",
    "                subjects[e_type].append(entity['text'])\n",
    "            elif (e_type=='JobTitle'):\n",
    "                relations.append('worksAs')\n",
    "                objects.append(entity['text'])\n",
    "\n",
    "        for relation in response['typedRelations']:\n",
    "            for argument in relation['arguments']:\n",
    "                if argument['part']=='second' :\n",
    "                    for entity in argument['entities']:\n",
    "                        subjects['Unsorted Subjects'].append(entity['text'])\n",
    "                if argument['part']=='second' :\n",
    "                    for entity in argument['entities']:\n",
    "                        objects.append(entity['text'])\n",
    "            relations.append(relation['type'])\n",
    "        \n",
    "        print('This fact is about: ')\n",
    "        for key in subjects.keys() :\n",
    "            if not (len(subjects[key]) == 0) :\n",
    "                print(key+\" : \")\n",
    "                print(subjects[key])\n",
    "        print(\"\")\n",
    "        \n",
    "        print(\"The relations and verbs involved are: \")\n",
    "        print(relations)\n",
    "        print(\"\")\n",
    "        \n",
    "        print(\"The objects of these relations are: \")\n",
    "        print(objects)\n",
    "        print(\"\")\n",
    "    else:\n",
    "        print('Error in keyword extaction call: ', response['statusInfo'])\n",
    "    \n",
    "    if (negation) : \n",
    "        print('')\n",
    "        print('## Negations ##')\n",
    "        if (len(n_list)==1) : \n",
    "            print(\"There is a negation : \", end='')\n",
    "            print(n_list)\n",
    "        else : \n",
    "            print(\"There are negations : \", end='')\n",
    "            print(n_list)\n",
    "\n",
    "\n",
    "    # Prepositions ? \n",
    "\n",
    "    # Semantic query expansion\n",
    "    # dbpedia : Quepy\n",
    "    # Scoping problem - Political issues. Sample queries\n",
    "    print('')\n",
    "    print('')\n",
    "    \n",
    "    output = {'subjects' : subjects, \n",
    "              'relations' : relations, \n",
    "              'objects' : objects, \n",
    "              'negations' : n_list}\n",
    "    return output"
   ]
  },
  {
   "cell_type": "code",
   "execution_count": null,
   "metadata": {
    "collapsed": true
   },
   "outputs": [],
   "source": [
    "def search_sources(keywords) : \n",
    "    references = []\n",
    "    words_found = []\n",
    "    print (\"Sources used : \")\n",
    "    for ref in references : \n",
    "        print (ref)\n",
    "    return words_found"
   ]
  },
  {
   "cell_type": "code",
   "execution_count": null,
   "metadata": {
    "collapsed": true
   },
   "outputs": [],
   "source": [
    "def compare(words_found, keywords):\n",
    "    result = True\n",
    "    print (\"This fact is : \"+str(result)+\" with \"+str(confidence)+\" confidence.\")"
   ]
  },
  {
   "cell_type": "code",
   "execution_count": null,
   "metadata": {
    "collapsed": false
   },
   "outputs": [
    {
     "name": "stdout",
     "output_type": "stream",
     "text": [
      "Enter a fact:\n",
      "Laos became a member of ASEAN in 2016\n",
      "This fact is about: \n",
      "Country : \n",
      "['Laos']\n",
      "Organization : \n",
      "['ASEAN']\n",
      "Unsorted : \n",
      "['ASEAN']\n",
      "\n",
      "The relations and verbs involved are: \n",
      "['employedBy']\n",
      "\n",
      "The objects of these relations are: \n",
      "['ASEAN']\n",
      "\n",
      "\n",
      "\n",
      "Enter a fact:\n",
      "Obama is the prime minister of UK\n",
      "This fact is about: \n",
      "Country : \n",
      "['UK']\n",
      "Person : \n",
      "['Obama']\n",
      "Unsorted : \n",
      "['UK']\n",
      "\n",
      "The relations and verbs involved are: \n",
      "['worksAs', 'residesIn']\n",
      "\n",
      "The objects of these relations are: \n",
      "['prime minister', 'UK']\n",
      "\n",
      "\n",
      "\n",
      "Enter a fact:\n"
     ]
    }
   ],
   "source": [
    "while True: \n",
    "    print (\"Enter a fact:\")\n",
    "    inputfact = input()\n",
    "    keywords = extract_keywords(inputfact)\n",
    "    \n",
    "    # Lee Hsien Loong is the prime minister of Singapore\n",
    "    # The UN president is Ban Ki Moon\n",
    "    # The US is at war with Syria\n",
    "    # Laos became a member of ASEAN in 2016\n",
    "    \n",
    "    # Pass keywords to search engine\n",
    "    # search_sources prints sources found, returns a list of words to compare and % \"trustability\"\n",
    "    words_found = search_sources(keywords)\n",
    "    \n",
    "    # Compare references and keywords\n",
    "    # compare prints a true or false, with rate of confidence\n",
    "    \n",
    "    compare(words_found, keywords)"
   ]
  }
 ],
 "metadata": {
  "anaconda-cloud": {},
  "kernelspec": {
   "display_name": "Python [conda root]",
   "language": "python",
   "name": "conda-root-py"
  },
  "language_info": {
   "codemirror_mode": {
    "name": "ipython",
    "version": 3
   },
   "file_extension": ".py",
   "mimetype": "text/x-python",
   "name": "python",
   "nbconvert_exporter": "python",
   "pygments_lexer": "ipython3",
   "version": "3.5.2"
  }
 },
 "nbformat": 4,
 "nbformat_minor": 0
}
