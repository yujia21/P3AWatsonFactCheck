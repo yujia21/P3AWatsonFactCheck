{
 "cells": [
  {
   "cell_type": "code",
   "execution_count": 10,
   "metadata": {
    "collapsed": false
   },
   "outputs": [],
   "source": [
    "import json\n",
    "from watson_developer_cloud import AlchemyLanguageV1\n",
    "\n",
    "alchemy_language = AlchemyLanguageV1(api_key='6b686d275c4cce6fe46efcbffd38a73f526c921c')\n",
    "\n",
    "from ipywidgets import widgets, interact\n",
    "from IPython.display import display"
   ]
  },
  {
   "cell_type": "code",
   "execution_count": 30,
   "metadata": {
    "collapsed": false
   },
   "outputs": [],
   "source": [
    "def extract_keywords(inputfact):\n",
    "    print(\"Your text is : \"+inputfact)\n",
    "    \n",
    "    import re\n",
    "    n_list=[]\n",
    "    #negation\n",
    "    negation=False\n",
    "    for n in [\"no\", \"not\", \"never\", \"none\", \"noone\"] : \n",
    "        if n in re.compile('\\w+').findall(inputfact):\n",
    "            negation=True\n",
    "            n_list.append(n)\n",
    "\n",
    "    \n",
    "    #keywords\n",
    "    response = alchemy_language.combined(text=inputfact,extract='entities,typed-rels')\n",
    "    if response['status'] == 'OK' : \n",
    "        print('## Entities ##')\n",
    "        entity_types=[]\n",
    "        for entity in response['entities']:\n",
    "            print('text: ', entity['text'].encode('utf-8'))\n",
    "            print('type: ', entity['type'])\n",
    "            if entity['type'] not in entity_types : \n",
    "                entity_types.append(entity['type'])\n",
    "            print('relevance: ', entity['relevance'])\n",
    "        print('')\n",
    "        print(entity_types)\n",
    "        print('')\n",
    "        print('## Typed Relations ##')\n",
    "        for relation in response['typedRelations']:\n",
    "            for argument in relation['arguments']:\n",
    "                for entities in argument['entities']:\n",
    "                    print(entities['text'].encode('utf-8'))\n",
    "            print('relation: ', relation['type'].encode('utf-8'))\n",
    "        print('')\n",
    "    # customed models for type relations? need to pay to create ML model    \n",
    "        \n",
    "    else:\n",
    "        print('Error in keyword extaction call: ', response['statusInfo'])\n",
    "    \n",
    "    if (negation) : \n",
    "        print('')\n",
    "        print('## Negations ##')\n",
    "        if (len(n_list)==1) : \n",
    "            print(\"There is a negation : \", end='')\n",
    "            print(n_list)\n",
    "        else : \n",
    "            print(\"There are negations : \", end='')\n",
    "            print(n_list)\n",
    "\n",
    "\n",
    "    # Prepositions ? \n",
    "\n",
    "    # Semantic query expansion\n",
    "    # dbpedia : Quepy\n",
    "    # Scoping problem - Political issues. Sample queries\n",
    "        \n",
    "   \n",
    "    print('')\n",
    "    print('')"
   ]
  },
  {
   "cell_type": "code",
   "execution_count": 35,
   "metadata": {
    "collapsed": false
   },
   "outputs": [
    {
     "name": "stdout",
     "output_type": "stream",
     "text": [
      "Enter a fact:\n",
      "Hillary Clinton is a woman\n",
      "Your text is : Hillary Clinton is a woman\n",
      "## Entities ##\n",
      "text:  b'Hillary Clinton'\n",
      "type:  Person\n",
      "relevance:  0.33\n",
      "\n",
      "['Person']\n",
      "\n",
      "## Typed Relations ##\n",
      "\n",
      "\n",
      "\n"
     ]
    }
   ],
   "source": [
    "print (\"Enter a fact:\")\n",
    "inputfact = input()\n",
    "extract_keywords(inputfact)\n",
    "    \n",
    "#Lee Hsien Loong is the prime minister of Singapore"
   ]
  }
 ],
 "metadata": {
  "anaconda-cloud": {},
  "kernelspec": {
   "display_name": "Python [conda root]",
   "language": "python",
   "name": "conda-root-py"
  },
  "language_info": {
   "codemirror_mode": {
    "name": "ipython",
    "version": 3
   },
   "file_extension": ".py",
   "mimetype": "text/x-python",
   "name": "python",
   "nbconvert_exporter": "python",
   "pygments_lexer": "ipython3",
   "version": "3.5.2"
  }
 },
 "nbformat": 4,
 "nbformat_minor": 0
}
